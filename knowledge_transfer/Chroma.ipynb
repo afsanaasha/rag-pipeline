{
 "cells": [
  {
   "cell_type": "markdown",
   "metadata": {},
   "source": [
    "#### Chroma\n",
    "Chroma is a AI-native open-source vector database focused on developer productivity and happiness. Chroma is licensed under Apache 2.0.\n",
    "\n",
    "https://python.langchain.com/v0.2/docs/integrations/vectorstores/"
   ]
  },
  {
   "cell_type": "code",
   "execution_count": 1,
   "metadata": {},
   "outputs": [],
   "source": [
    "## building a sample vectordb\n",
    "from langchain_chroma import Chroma\n",
    "from langchain_community.document_loaders import TextLoader\n",
    "from langchain_community.embeddings import OllamaEmbeddings\n",
    "from langchain_text_splitters import RecursiveCharacterTextSplitter"
   ]
  },
  {
   "cell_type": "code",
   "execution_count": 12,
   "metadata": {},
   "outputs": [
    {
     "data": {
      "text/plain": [
       "[Document(metadata={'source': 'speech.txt'}, page_content='What Is Amazon SageMaker?\\nAmazon SageMaker is a fully managed machine learning service. With Amazon SageMaker, data\\nscientists and developers can quickly and easily build and train machine learning models, and then\\ndirectly deploy them into a production-ready hosted environment. It provides an integrated Jupyter\\nauthoring notebook instance for easy access to your data sources for exploration and analysis, so you\\ndon\\'t have to manage servers. It also provides common machine learning algorithms that are optimized\\nto run efficiently against extremely large data in a distributed environment. With native support for\\nbring-your-own-algorithms and frameworks, Amazon SageMaker offers flexible distributed training\\noptions that adjust to your specific workflows. Deploy a model into a secure and scalable environment by\\nlaunching it with a single click from the Amazon SageMaker console. Training and hosting are billed by\\nminutes of usage, with no minimum fees and no upfront commitments.\\nThis is a HIPAA Eligible Service. For more information about AWS, U.S. Health Insurance Portability and\\nAccountability Act of 1996 (HIPAA), and using AWS services to process, store, and transmit protected\\nhealth information (PHI), see HIPAA Overview.\\nAre You a First-time User of Amazon SageMaker?\\nIf you are a first-time user of Amazon SageMaker, we recommend that you do the following:\\n1. Read How Amazon SageMaker Works (p. 2) – This section provides an overview of Amazon\\nSageMaker, explains key concepts, and describes the core components involved in building AI solutions\\nwith Amazon SageMaker. We recommend that you read this topic in the order presented.\\n2. Read Get Started (p. 16) – This section explains how to set up your account and create your first\\nAmazon SageMaker notebook instance.\\n3. Try a model training exercise – This exercise walks you through training your first model. You use\\ntraining algorithms provided by Amazon SageMaker. For more information, see Get Started (p. 16).\\n4. Explore other topics – Depending on your needs, do the following:\\n• Submit Python code to train with deep learning frameworks – In Amazon SageMaker, you can use\\nyour own training scripts to train models. For information, see Use Machine Learning Frameworks\\nwith Amazon SageMaker (p. 440).\\n• Use Amazon SageMaker directly from Apache Spark – For information, see Use Apache Spark with\\nAmazon SageMaker (p. 440).\\n• Use Amazon AI to train and/or deploy your own custom algorithms – Package your custom\\nalgorithms with Docker so you can train and/or deploy them in Amazon SageMaker. See Use Your\\nOwn Algorithms or Models with Amazon SageMaker (p. 384) to learn how Amazon SageMaker\\ninteracts with Docker containers, and for the Amazon SageMaker requirements for Docker images.\\n5. See the API Reference (p. 616) – This section describes the Amazon SageMaker API operations\\n\\n\\nHow Amazon SageMaker Works\\nAmazon SageMaker is a fully managed service that enables you to quickly and easily integrate machine\\nlearning-based models into your applications. This section provides an overview of machine learning\\nand explains how Amazon SageMaker works. If you are a first-time user of Amazon SageMaker, we\\nrecommend that you read the following sections in order:\\nTopics\\n• Machine Learning with Amazon SageMaker (p. 2)\\n• Explore and Preprocess Data (p. 4)\\n• Train a Model with Amazon SageMaker (p. 4)\\n• Deploy a Model in Amazon SageMaker (p. 7)\\nHow It Works: Next Topic\\nMachine Learning with Amazon SageMaker (p. 2)\\nMachine Learning with Amazon SageMaker\\nThis section describes a typical machine learning workflow and summarizes how you accomplish those\\ntasks with Amazon SageMaker.\\nIn machine learning, you \"teach\" a computer to make predictions, or inferences. First, you use an\\nalgorithm and example data to train a model. Then you integrate your model into your application to\\ngenerate inferences in real time and at scale. In a production environment, a model typically learns from\\nmillions of example data items and produces inferences in hundreds to less than 20 milliseconds.\\nThe following diagram illustrates the typical workflow for creating a machine learning model:\\n\\n\\nAs the diagram illustrates, you typically perform the following activities:\\n1. Generate example data—To train a model, you need example data. The type of data that you need\\ndepends on the business problem that you want the model to solve (the inferences that you want\\n\\nthe model to generate). For example, suppose that you want to create a model to predict a number\\ngiven an input image of a handwritten digit. To train such a model, you need example images of\\nhandwritten numbers.\\nData scientists often spend a lot of time exploring and preprocessing, or \"wrangling,\" example data\\nbefore using it for model training. To preprocess data, you typically do the following:\\na. Fetch the data— You might have in-house example data repositories, or you might use datasets\\nthat are publicly available. Typically, you pull the dataset or datasets into a single repository.\\nb. Clean the data—To improve model training, inspect the data and clean it as needed. For example, if\\nyour data has a country name attribute with values United States and US, you might want to\\nedit the data to be consistent.\\nc. Prepare or transform the data—To improve performance, you might perform additional data\\ntransformations. For example, you might choose to combine attributes. If your model predicts the\\nconditions that require de-icing an aircraft, instead of using temperature and humidity attributes\\nseparately, you might combine those attributes into a new attribute to get a better model.\\nIn Amazon SageMaker, you preprocess example data in a Jupyter notebook on your notebook\\ninstance. You use your notebook to fetch your dataset, explore it, and prepare it for model training.\\nFor more information, see Explore and Preprocess Data (p. 4). For more information about\\npreparing data in AWS Marketplace, see data preparation.\\n2. Train a model—Model training includes both training and evaluating the model, as follows:\\n• Training the model— To train a model, you need an algorithm. The algorithm you choose depends\\non a number of factors. For a quick, out-of-the-box solution, you might be able to use one of\\nthe algorithms that Amazon SageMaker provides. For a list of algorithms provided by Amazon\\nSageMaker and related considerations, see Use Amazon SageMaker Built-in Algorithms (p. 56).\\nYou also need compute resources for training. Depending on the size of your training dataset and\\nhow quickly you need the results, you can use resources ranging from a single general-purpose\\ninstance to a distributed cluster of GPU instances. For more information, see Train a Model with\\nAmazon SageMaker (p. 4).\\n• Evaluating the model—After you\\'ve trained your model, you evaluate it to determine whether the\\naccuracy of the inferences is acceptable. In Amazon SageMaker, you use either the AWS SDK for\\nPython (Boto) or the high-level Python library that Amazon SageMaker provides to send requests to\\nthe model for inferences.\\nYou use a Jupyter notebook in your Amazon SageMaker notebook instance to train and evaluate\\nyour model.\\n3. Deploy the model— You traditionally re-engineer a model before you integrate it with your\\napplication and deploy it. With Amazon SageMaker hosting services, you can deploy your model\\nindependently, decoupling it from your application code. For more information, see Deploy a Model on\\nAmazon SageMaker Hosting Services (p. 7).')]"
      ]
     },
     "execution_count": 12,
     "metadata": {},
     "output_type": "execute_result"
    }
   ],
   "source": [
    "loader = TextLoader(\"speech.txt\")\n",
    "data = loader.load()\n",
    "data"
   ]
  },
  {
   "cell_type": "code",
   "execution_count": 15,
   "metadata": {},
   "outputs": [],
   "source": [
    "# Split\n",
    "text_splitter = RecursiveCharacterTextSplitter(chunk_size=500, chunk_overlap=70)\n",
    "splits = text_splitter.split_documents(data)"
   ]
  },
  {
   "cell_type": "code",
   "execution_count": 16,
   "metadata": {},
   "outputs": [
    {
     "data": {
      "text/plain": [
       "18"
      ]
     },
     "execution_count": 16,
     "metadata": {},
     "output_type": "execute_result"
    }
   ],
   "source": [
    "len(splits)"
   ]
  },
  {
   "cell_type": "code",
   "execution_count": 19,
   "metadata": {},
   "outputs": [
    {
     "data": {
      "text/plain": [
       "<langchain_chroma.vectorstores.Chroma at 0x19ba9bbf190>"
      ]
     },
     "execution_count": 19,
     "metadata": {},
     "output_type": "execute_result"
    }
   ],
   "source": [
    "# embedding=OllamaEmbeddings()\n",
    "from langchain_huggingface.embeddings import HuggingFaceEndpointEmbeddings\n",
    "embedding = HuggingFaceEndpointEmbeddings()\n",
    "vectordb=Chroma.from_documents(documents=splits,embedding=embedding)\n",
    "vectordb"
   ]
  },
  {
   "cell_type": "code",
   "execution_count": 20,
   "metadata": {},
   "outputs": [
    {
     "data": {
      "text/plain": [
       "'What Is Amazon SageMaker?\\nAmazon SageMaker is a fully managed machine learning service. With Amazon SageMaker, data\\nscientists and developers can quickly and easily build and train machine learning models, and then\\ndirectly deploy them into a production-ready hosted environment. It provides an integrated Jupyter\\nauthoring notebook instance for easy access to your data sources for exploration and analysis, so you'"
      ]
     },
     "execution_count": 20,
     "metadata": {},
     "output_type": "execute_result"
    }
   ],
   "source": [
    "## query it\n",
    "query = \"What is AMazon Sagemanker\"\n",
    "docs = vectordb.similarity_search(query)\n",
    "docs[0].page_content"
   ]
  },
  {
   "cell_type": "code",
   "execution_count": 21,
   "metadata": {},
   "outputs": [],
   "source": [
    "## Saving to the disk\n",
    "vectordb=Chroma.from_documents(documents=splits,embedding=embedding,persist_directory=\"./chroma_db\")\n"
   ]
  },
  {
   "cell_type": "code",
   "execution_count": 25,
   "metadata": {},
   "outputs": [
    {
     "name": "stdout",
     "output_type": "stream",
     "text": [
      "How Amazon SageMaker Works\n",
      "Amazon SageMaker is a fully managed service that enables you to quickly and easily integrate machine\n",
      "learning-based models into your applications. This section provides an overview of machine learning\n",
      "and explains how Amazon SageMaker works. If you are a first-time user of Amazon SageMaker, we\n",
      "recommend that you read the following sections in order:\n",
      "Topics\n",
      "• Machine Learning with Amazon SageMaker (p. 2)\n",
      "• Explore and Preprocess Data (p. 4)\n"
     ]
    }
   ],
   "source": [
    "# load from disk\n",
    "db2 = Chroma(persist_directory=\"./chroma_db\", embedding_function=embedding)\n",
    "docs=db2.similarity_search(\"explain me the working of machine learning amzon sagemaker\")\n",
    "print(docs[0].page_content)"
   ]
  },
  {
   "cell_type": "code",
   "execution_count": 27,
   "metadata": {},
   "outputs": [
    {
     "data": {
      "text/plain": [
       "[(Document(metadata={'source': 'speech.txt'}, page_content='What Is Amazon SageMaker?\\nAmazon SageMaker is a fully managed machine learning service. With Amazon SageMaker, data\\nscientists and developers can quickly and easily build and train machine learning models, and then\\ndirectly deploy them into a production-ready hosted environment. It provides an integrated Jupyter\\nauthoring notebook instance for easy access to your data sources for exploration and analysis, so you'),\n",
       "  0.5895249186473444),\n",
       " (Document(metadata={'source': 'speech.txt'}, page_content=\"don't have to manage servers. It also provides common machine learning algorithms that are optimized\\nto run efficiently against extremely large data in a distributed environment. With native support for\\nbring-your-own-algorithms and frameworks, Amazon SageMaker offers flexible distributed training\\noptions that adjust to your specific workflows. Deploy a model into a secure and scalable environment by\"),\n",
       "  0.885385487295426),\n",
       " (Document(metadata={'source': 'speech.txt'}, page_content='launching it with a single click from the Amazon SageMaker console. Training and hosting are billed by\\nminutes of usage, with no minimum fees and no upfront commitments.\\nThis is a HIPAA Eligible Service. For more information about AWS, U.S. Health Insurance Portability and\\nAccountability Act of 1996 (HIPAA), and using AWS services to process, store, and transmit protected\\nhealth information (PHI), see HIPAA Overview.\\nAre You a First-time User of Amazon SageMaker?'),\n",
       "  0.8984912924068625),\n",
       " (Document(metadata={'source': 'speech.txt'}, page_content='2. Read Get Started (p. 16) – This section explains how to set up your account and create your first\\nAmazon SageMaker notebook instance.\\n3. Try a model training exercise – This exercise walks you through training your first model. You use\\ntraining algorithms provided by Amazon SageMaker. For more information, see Get Started (p. 16).\\n4. Explore other topics – Depending on your needs, do the following:\\n• Submit Python code to train with deep learning frameworks – In Amazon SageMaker, you can use'),\n",
       "  0.9454134529715635)]"
      ]
     },
     "execution_count": 27,
     "metadata": {},
     "output_type": "execute_result"
    }
   ],
   "source": [
    "## similarity Search With Score\n",
    "docs = vectordb.similarity_search_with_score(query)\n",
    "docs"
   ]
  },
  {
   "cell_type": "code",
   "execution_count": 28,
   "metadata": {},
   "outputs": [
    {
     "data": {
      "text/plain": [
       "'What Is Amazon SageMaker?\\nAmazon SageMaker is a fully managed machine learning service. With Amazon SageMaker, data\\nscientists and developers can quickly and easily build and train machine learning models, and then\\ndirectly deploy them into a production-ready hosted environment. It provides an integrated Jupyter\\nauthoring notebook instance for easy access to your data sources for exploration and analysis, so you'"
      ]
     },
     "execution_count": 28,
     "metadata": {},
     "output_type": "execute_result"
    }
   ],
   "source": [
    "### Retriever option\n",
    "retriever=vectordb.as_retriever()\n",
    "retriever.invoke(query)[0].page_content"
   ]
  },
  {
   "cell_type": "code",
   "execution_count": null,
   "metadata": {},
   "outputs": [],
   "source": []
  }
 ],
 "metadata": {
  "kernelspec": {
   "display_name": "rag_poc",
   "language": "python",
   "name": "python3"
  },
  "language_info": {
   "codemirror_mode": {
    "name": "ipython",
    "version": 3
   },
   "file_extension": ".py",
   "mimetype": "text/x-python",
   "name": "python",
   "nbconvert_exporter": "python",
   "pygments_lexer": "ipython3",
   "version": "3.10.15"
  }
 },
 "nbformat": 4,
 "nbformat_minor": 2
}
